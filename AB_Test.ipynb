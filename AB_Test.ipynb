{
 "cells": [
  {
   "cell_type": "code",
   "execution_count": 21,
   "id": "53dfacac-1efb-424a-a5fb-b57aee5a58da",
   "metadata": {},
   "outputs": [],
   "source": [
    "import pandas as pd\n",
    "from matplotlib import pyplot\n",
    "import numpy\n",
    "from scipy.stats import shapiro,mannwhitneyu\n",
    "import scipy.stats as stats\n",
    "\n",
    "import warnings\n",
    "warnings.filterwarnings(\"ignore\")"
   ]
  },
  {
   "cell_type": "code",
   "execution_count": 7,
   "id": "ba6453a2-3488-4b58-a38e-0731e2182045",
   "metadata": {},
   "outputs": [],
   "source": [
    "dff = pd.read_csv(\"AB_Test_Results.csv\") "
   ]
  },
  {
   "cell_type": "code",
   "execution_count": 11,
   "id": "c58e36d5-c699-42f1-b472-aa4f975f9d26",
   "metadata": {},
   "outputs": [],
   "source": [
    "df = dff"
   ]
  },
  {
   "cell_type": "code",
   "execution_count": 12,
   "id": "0676bb8a-c48d-42f2-be2e-70fb3be5dcb8",
   "metadata": {},
   "outputs": [
    {
     "data": {
      "text/html": [
       "<div>\n",
       "<style scoped>\n",
       "    .dataframe tbody tr th:only-of-type {\n",
       "        vertical-align: middle;\n",
       "    }\n",
       "\n",
       "    .dataframe tbody tr th {\n",
       "        vertical-align: top;\n",
       "    }\n",
       "\n",
       "    .dataframe thead th {\n",
       "        text-align: right;\n",
       "    }\n",
       "</style>\n",
       "<table border=\"1\" class=\"dataframe\">\n",
       "  <thead>\n",
       "    <tr style=\"text-align: right;\">\n",
       "      <th></th>\n",
       "      <th>USER_ID</th>\n",
       "      <th>VARIANT_NAME</th>\n",
       "      <th>REVENUE</th>\n",
       "    </tr>\n",
       "  </thead>\n",
       "  <tbody>\n",
       "    <tr>\n",
       "      <th>0</th>\n",
       "      <td>737</td>\n",
       "      <td>variant</td>\n",
       "      <td>0.0</td>\n",
       "    </tr>\n",
       "    <tr>\n",
       "      <th>1</th>\n",
       "      <td>2423</td>\n",
       "      <td>control</td>\n",
       "      <td>0.0</td>\n",
       "    </tr>\n",
       "    <tr>\n",
       "      <th>2</th>\n",
       "      <td>9411</td>\n",
       "      <td>control</td>\n",
       "      <td>0.0</td>\n",
       "    </tr>\n",
       "    <tr>\n",
       "      <th>3</th>\n",
       "      <td>7311</td>\n",
       "      <td>control</td>\n",
       "      <td>0.0</td>\n",
       "    </tr>\n",
       "    <tr>\n",
       "      <th>4</th>\n",
       "      <td>6174</td>\n",
       "      <td>variant</td>\n",
       "      <td>0.0</td>\n",
       "    </tr>\n",
       "  </tbody>\n",
       "</table>\n",
       "</div>"
      ],
      "text/plain": [
       "   USER_ID VARIANT_NAME  REVENUE\n",
       "0      737      variant      0.0\n",
       "1     2423      control      0.0\n",
       "2     9411      control      0.0\n",
       "3     7311      control      0.0\n",
       "4     6174      variant      0.0"
      ]
     },
     "execution_count": 12,
     "metadata": {},
     "output_type": "execute_result"
    }
   ],
   "source": [
    "df.head()"
   ]
  },
  {
   "cell_type": "code",
   "execution_count": 24,
   "id": "967251c6-27ea-4b96-b8ef-abbec211de3e",
   "metadata": {},
   "outputs": [
    {
     "name": "stdout",
     "output_type": "stream",
     "text": [
      "<class 'pandas.core.frame.DataFrame'>\n",
      "RangeIndex: 10000 entries, 0 to 9999\n",
      "Data columns (total 3 columns):\n",
      " #   Column        Non-Null Count  Dtype  \n",
      "---  ------        --------------  -----  \n",
      " 0   USER_ID       10000 non-null  int64  \n",
      " 1   VARIANT_NAME  10000 non-null  object \n",
      " 2   REVENUE       10000 non-null  float64\n",
      "dtypes: float64(1), int64(1), object(1)\n",
      "memory usage: 234.5+ KB\n"
     ]
    }
   ],
   "source": [
    "df.info()"
   ]
  },
  {
   "cell_type": "code",
   "execution_count": 13,
   "id": "6dfcdde0-b8f0-4395-b98e-b1c9b24bfdb5",
   "metadata": {},
   "outputs": [
    {
     "data": {
      "text/html": [
       "<div>\n",
       "<style scoped>\n",
       "    .dataframe tbody tr th:only-of-type {\n",
       "        vertical-align: middle;\n",
       "    }\n",
       "\n",
       "    .dataframe tbody tr th {\n",
       "        vertical-align: top;\n",
       "    }\n",
       "\n",
       "    .dataframe thead th {\n",
       "        text-align: right;\n",
       "    }\n",
       "</style>\n",
       "<table border=\"1\" class=\"dataframe\">\n",
       "  <thead>\n",
       "    <tr style=\"text-align: right;\">\n",
       "      <th></th>\n",
       "      <th>USER_ID</th>\n",
       "      <th>REVENUE</th>\n",
       "    </tr>\n",
       "  </thead>\n",
       "  <tbody>\n",
       "    <tr>\n",
       "      <th>count</th>\n",
       "      <td>10000.000000</td>\n",
       "      <td>10000.000000</td>\n",
       "    </tr>\n",
       "    <tr>\n",
       "      <th>mean</th>\n",
       "      <td>4981.080200</td>\n",
       "      <td>0.099447</td>\n",
       "    </tr>\n",
       "    <tr>\n",
       "      <th>std</th>\n",
       "      <td>2890.590115</td>\n",
       "      <td>2.318529</td>\n",
       "    </tr>\n",
       "    <tr>\n",
       "      <th>min</th>\n",
       "      <td>2.000000</td>\n",
       "      <td>0.000000</td>\n",
       "    </tr>\n",
       "    <tr>\n",
       "      <th>25%</th>\n",
       "      <td>2468.750000</td>\n",
       "      <td>0.000000</td>\n",
       "    </tr>\n",
       "    <tr>\n",
       "      <th>50%</th>\n",
       "      <td>4962.000000</td>\n",
       "      <td>0.000000</td>\n",
       "    </tr>\n",
       "    <tr>\n",
       "      <th>75%</th>\n",
       "      <td>7511.500000</td>\n",
       "      <td>0.000000</td>\n",
       "    </tr>\n",
       "    <tr>\n",
       "      <th>max</th>\n",
       "      <td>10000.000000</td>\n",
       "      <td>196.010000</td>\n",
       "    </tr>\n",
       "  </tbody>\n",
       "</table>\n",
       "</div>"
      ],
      "text/plain": [
       "            USER_ID       REVENUE\n",
       "count  10000.000000  10000.000000\n",
       "mean    4981.080200      0.099447\n",
       "std     2890.590115      2.318529\n",
       "min        2.000000      0.000000\n",
       "25%     2468.750000      0.000000\n",
       "50%     4962.000000      0.000000\n",
       "75%     7511.500000      0.000000\n",
       "max    10000.000000    196.010000"
      ]
     },
     "execution_count": 13,
     "metadata": {},
     "output_type": "execute_result"
    }
   ],
   "source": [
    "df.describe()"
   ]
  },
  {
   "cell_type": "code",
   "execution_count": 15,
   "id": "9477655d-e675-42c1-9e26-0fcce544ef35",
   "metadata": {},
   "outputs": [
    {
     "data": {
      "text/plain": [
       "(10000, 3)"
      ]
     },
     "execution_count": 15,
     "metadata": {},
     "output_type": "execute_result"
    }
   ],
   "source": [
    "df.shape"
   ]
  },
  {
   "cell_type": "code",
   "execution_count": 16,
   "id": "594ef223-3450-42dc-943c-bf75fef1ba41",
   "metadata": {},
   "outputs": [],
   "source": [
    "control = df.loc[df[\"VARIANT_NAME\"]==\"control\"]\n",
    "test = df.loc[df[\"VARIANT_NAME\"]==\"variant\"]"
   ]
  },
  {
   "cell_type": "markdown",
   "id": "7d4e420f-7ad8-4e16-8bf0-41a66c5dde35",
   "metadata": {},
   "source": [
    "## STEP 1 :\n",
    "    \n",
    "    -Null Hypothesis (H0): μ1 = μ2 (There is no statistically significant difference in terms of revenue between the Control and Variant Groups)\r",
    "    \n",
    "    -Alternative Hypothesis (H1): μ1 ≠ μ2 (There is a statistically significant difference between the Control and Variant Groups in terms of revenue)"
   ]
  },
  {
   "cell_type": "markdown",
   "id": "db7c55a3-8490-4b30-a117-bda97c9a26c4",
   "metadata": {},
   "source": [
    "## STEP 2 :\n",
    "    Normality Assumption Hypothesis:\n",
    "        H0: The normal distribution assumption is satisfied.\n",
    "        H1: The normal distribution assumption is violated.\n",
    "    Assumption of Homogeneity of Variance:\n",
    "        H0: Variances are homogenous.\n",
    "        H1: Variances are not homogenous.\n",
    "\n",
    "    "
   ]
  },
  {
   "cell_type": "code",
   "execution_count": 17,
   "id": "17a9e7f5-f193-4e24-b5ae-e3c61c1ecea3",
   "metadata": {},
   "outputs": [
    {
     "name": "stdout",
     "output_type": "stream",
     "text": [
      "Test Stat=0.0183,p-value=0.0000\n"
     ]
    }
   ],
   "source": [
    "test_stat,p_value = shapiro(control[\"REVENUE\"])\n",
    "print('Test Stat=%.4f,p-value=%.4f'%(test_stat,p_value))"
   ]
  },
  {
   "cell_type": "markdown",
   "id": "ecc8aefb-fc17-4a2c-ad09-45029a6bf14e",
   "metadata": {},
   "source": [
    "Notes:\r\n",
    "If the p-value is less than 0.05, we reject the null hypothesis (H0)"
   ]
  },
  {
   "cell_type": "code",
   "execution_count": 18,
   "id": "75a79dc4-d755-4aaf-90f6-ebf2ec7f4199",
   "metadata": {},
   "outputs": [
    {
     "name": "stdout",
     "output_type": "stream",
     "text": [
      "Test Stat=0.0270,p-value=0.0000\n"
     ]
    }
   ],
   "source": [
    "test_stat,p_value = shapiro(test[\"REVENUE\"])\n",
    "print('Test Stat=%.4f,p-value=%.4f'%(test_stat,p_value))"
   ]
  },
  {
   "cell_type": "markdown",
   "id": "4f0c423e-37e0-4c5a-a385-0aa85617c425",
   "metadata": {},
   "source": [
    "H0 has been rejected, indicating that the data does not follow a normal distribution. As a result, there is no need to assess the homogeneity of variances. We can proceed directly to non-parametric statistical analysis, specifically the Mann-Whitney test"
   ]
  },
  {
   "cell_type": "code",
   "execution_count": 22,
   "id": "121349da-17cf-47cd-a5bb-5599b7efbc8d",
   "metadata": {},
   "outputs": [
    {
     "name": "stdout",
     "output_type": "stream",
     "text": [
      "Test stat = 12521564.0000,p-value=0.4783\n"
     ]
    }
   ],
   "source": [
    "test_stat,pvalue = mannwhitneyu(control[\"REVENUE\"],\n",
    "                                test['REVENUE'])\n",
    "print('Test stat = %.4f,p-value=%.4f'%(test_stat,pvalue))"
   ]
  },
  {
   "cell_type": "markdown",
   "id": "31c153af-4f66-4318-9c1c-2d6065c24567",
   "metadata": {},
   "source": [
    "## RESULT"
   ]
  },
  {
   "cell_type": "markdown",
   "id": "6f940c54-8123-4651-ac56-653a23fb2be3",
   "metadata": {},
   "source": [
    "Null Hypothesis (H0): μ1 = μ2 (There is no statistically significant difference in terms of revenue between the Control and Variant Groups)"
   ]
  },
  {
   "cell_type": "code",
   "execution_count": null,
   "id": "776a62d5-e7de-46d5-a72a-cb4b34e57765",
   "metadata": {},
   "outputs": [],
   "source": []
  }
 ],
 "metadata": {
  "kernelspec": {
   "display_name": "Python 3 (ipykernel)",
   "language": "python",
   "name": "python3"
  },
  "language_info": {
   "codemirror_mode": {
    "name": "ipython",
    "version": 3
   },
   "file_extension": ".py",
   "mimetype": "text/x-python",
   "name": "python",
   "nbconvert_exporter": "python",
   "pygments_lexer": "ipython3",
   "version": "3.11.5"
  }
 },
 "nbformat": 4,
 "nbformat_minor": 5
}
